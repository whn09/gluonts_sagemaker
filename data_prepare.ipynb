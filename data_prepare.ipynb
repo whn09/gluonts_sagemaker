{
 "cells": [
  {
   "cell_type": "code",
   "execution_count": 1,
   "id": "02dcc8ae",
   "metadata": {},
   "outputs": [],
   "source": [
    "import json\n",
    "import math\n",
    "import numpy as pd\n",
    "import pandas as pd\n",
    "import matplotlib\n",
    "import matplotlib.pyplot as plt\n",
    "plt.rcParams['agg.path.chunksize'] = 10000\n",
    "plt.rcParams['figure.figsize'] = [12, 8]\n",
    "plt.style.use('ggplot')\n",
    "pd.set_option('display.max_columns', None)\n",
    "pd.set_option('display.float_format', lambda x: f'{x:.3f}')"
   ]
  },
  {
   "cell_type": "code",
   "execution_count": 2,
   "id": "87ebc9aa",
   "metadata": {},
   "outputs": [],
   "source": [
    "data = pd.read_csv('data/train.csv', parse_dates=['Date'])"
   ]
  },
  {
   "cell_type": "code",
   "execution_count": 3,
   "id": "60319c86",
   "metadata": {},
   "outputs": [
    {
     "name": "stdout",
     "output_type": "stream",
     "text": [
      "<class 'pandas.core.frame.DataFrame'>\n",
      "RangeIndex: 22536 entries, 0 to 22535\n",
      "Data columns (total 3 columns):\n",
      " #   Column          Non-Null Count  Dtype         \n",
      "---  ------          --------------  -----         \n",
      " 0   Date            22536 non-null  datetime64[ns]\n",
      " 1   ConfirmedCases  22536 non-null  float64       \n",
      " 2   name            22536 non-null  object        \n",
      "dtypes: datetime64[ns](1), float64(1), object(1)\n",
      "memory usage: 528.3+ KB\n"
     ]
    }
   ],
   "source": [
    "data.info()"
   ]
  },
  {
   "cell_type": "code",
   "execution_count": 4,
   "id": "8c721b36",
   "metadata": {},
   "outputs": [
    {
     "data": {
      "text/html": [
       "<div>\n",
       "<style scoped>\n",
       "    .dataframe tbody tr th:only-of-type {\n",
       "        vertical-align: middle;\n",
       "    }\n",
       "\n",
       "    .dataframe tbody tr th {\n",
       "        vertical-align: top;\n",
       "    }\n",
       "\n",
       "    .dataframe thead th {\n",
       "        text-align: right;\n",
       "    }\n",
       "</style>\n",
       "<table border=\"1\" class=\"dataframe\">\n",
       "  <thead>\n",
       "    <tr style=\"text-align: right;\">\n",
       "      <th></th>\n",
       "      <th>Date</th>\n",
       "      <th>ConfirmedCases</th>\n",
       "      <th>name</th>\n",
       "    </tr>\n",
       "  </thead>\n",
       "  <tbody>\n",
       "    <tr>\n",
       "      <th>0</th>\n",
       "      <td>2020-01-22</td>\n",
       "      <td>0.000</td>\n",
       "      <td>Afghanistan_</td>\n",
       "    </tr>\n",
       "    <tr>\n",
       "      <th>1</th>\n",
       "      <td>2020-01-23</td>\n",
       "      <td>0.000</td>\n",
       "      <td>Afghanistan_</td>\n",
       "    </tr>\n",
       "    <tr>\n",
       "      <th>2</th>\n",
       "      <td>2020-01-24</td>\n",
       "      <td>0.000</td>\n",
       "      <td>Afghanistan_</td>\n",
       "    </tr>\n",
       "    <tr>\n",
       "      <th>3</th>\n",
       "      <td>2020-01-25</td>\n",
       "      <td>0.000</td>\n",
       "      <td>Afghanistan_</td>\n",
       "    </tr>\n",
       "    <tr>\n",
       "      <th>4</th>\n",
       "      <td>2020-01-26</td>\n",
       "      <td>0.000</td>\n",
       "      <td>Afghanistan_</td>\n",
       "    </tr>\n",
       "  </tbody>\n",
       "</table>\n",
       "</div>"
      ],
      "text/plain": [
       "        Date  ConfirmedCases          name\n",
       "0 2020-01-22           0.000  Afghanistan_\n",
       "1 2020-01-23           0.000  Afghanistan_\n",
       "2 2020-01-24           0.000  Afghanistan_\n",
       "3 2020-01-25           0.000  Afghanistan_\n",
       "4 2020-01-26           0.000  Afghanistan_"
      ]
     },
     "execution_count": 4,
     "metadata": {},
     "output_type": "execute_result"
    }
   ],
   "source": [
    "data.head()"
   ]
  },
  {
   "cell_type": "code",
   "execution_count": 5,
   "id": "2dc5fec5",
   "metadata": {},
   "outputs": [
    {
     "name": "stdout",
     "output_type": "stream",
     "text": [
      "start_time: 2020-01-22 00:00:00\n",
      "end_time: 2020-04-02 00:00:00\n"
     ]
    }
   ],
   "source": [
    "freq = '1D'\n",
    "id_feature = 'name'\n",
    "label_feature = 'ConfirmedCases'\n",
    "time_feature = 'Date'\n",
    "sparse_features = []\n",
    "dynamic_dense_features = []\n",
    "start_time = data[time_feature].min()\n",
    "end_time = data[time_feature].max()\n",
    "print('start_time:', start_time)\n",
    "print('end_time:', end_time)"
   ]
  },
  {
   "cell_type": "code",
   "execution_count": 6,
   "id": "b6457393",
   "metadata": {},
   "outputs": [],
   "source": [
    "def get_timeseries(df, dense_feature):\n",
    "    timeseries = []\n",
    "    df_group = df.groupby([id_feature])\n",
    "    for name, group in df_group:\n",
    "        tmp_df = pd.DataFrame({name: group[dense_feature], time_feature:group[time_feature]})\n",
    "        tmp_df.set_index(time_feature, inplace=True)\n",
    "        if dense_feature == id_feature:\n",
    "            tmp_df = tmp_df.resample(freq).mean()\n",
    "        else:\n",
    "            tmp_df = tmp_df.resample(freq).mean()\n",
    "#         print(tmp_df)\n",
    "        timeseries.append(tmp_df[name])\n",
    "#     print(timeseries)\n",
    "    return timeseries"
   ]
  },
  {
   "cell_type": "code",
   "execution_count": 7,
   "id": "d9434f6d",
   "metadata": {},
   "outputs": [],
   "source": [
    "def visualize_timeseries(timeseries, dense_feature):\n",
    "    row_num = math.ceil(len(timeseries)/2)\n",
    "    fig, axs = plt.subplots(min(row_num, 2), 2, figsize=(20, 20), sharex=True)\n",
    "    axx = axs.ravel()\n",
    "    for i in range(0, min(len(timeseries), 4)):\n",
    "        timeseries[i].plot(ax=axx[i])\n",
    "        axx[i].set_xlabel(\"date\")\n",
    "        axx[i].set_ylabel(dense_feature)\n",
    "        axx[i].grid(which='minor', axis='x')"
   ]
  },
  {
   "cell_type": "code",
   "execution_count": 8,
   "id": "8ee799d4",
   "metadata": {},
   "outputs": [],
   "source": [
    "def save_timeseries(timeseries, filename):\n",
    "    with open(filename, 'wb') as fp:\n",
    "        data = [\n",
    "            {\n",
    "                \"start\": str(timeseries[i].index[0]),\n",
    "                \"target\": timeseries[i].tolist()\n",
    "            }\n",
    "            for i in range(len(timeseries))\n",
    "        ]\n",
    "        for d in data:\n",
    "            fp.write(json.dumps(d).replace('NaN', '\"NaN\"').encode(\"utf-8\"))\n",
    "            fp.write(\"\\n\".encode('utf-8'))"
   ]
  },
  {
   "cell_type": "code",
   "execution_count": 9,
   "id": "03c007ef",
   "metadata": {},
   "outputs": [],
   "source": [
    "!mkdir -p output"
   ]
  },
  {
   "cell_type": "code",
   "execution_count": 10,
   "id": "69f0f027",
   "metadata": {},
   "outputs": [
    {
     "name": "stdout",
     "output_type": "stream",
     "text": [
      "CPU times: user 1.15 s, sys: 11.2 ms, total: 1.17 s\n",
      "Wall time: 1.16 s\n"
     ]
    },
    {
     "data": {
      "image/png": "[encoded data removed]",
      "text/plain": [
       "<Figure size 1440x1440 with 4 Axes>"
      ]
     },
     "metadata": {},
     "output_type": "display_data"
    }
   ],
   "source": [
    "%%time\n",
    "\n",
    "data_timeseries = get_timeseries(data, label_feature)\n",
    "visualize_timeseries(data_timeseries, label_feature)\n",
    "save_timeseries(data_timeseries, 'output/'+label_feature+'.json')"
   ]
  },
  {
   "cell_type": "code",
   "execution_count": 11,
   "id": "8e09ca1a",
   "metadata": {},
   "outputs": [],
   "source": [
    "DATETIME_START_OF_TRAIN = \"2020-01-22 00:00:00\"\n",
    "DATETIME_END_OF_TRAIN = \"2020-03-29 00:00:00\"\n",
    "DATETIME_START_OF_TEST = DATETIME_END_OF_TRAIN\n",
    "DATETIME_END_OF_TEST = \"2020-04-03 00:00:00\"\n",
    "\n",
    "freq = '1D'\n",
    "prediction_length = 5\n",
    "context_length = prediction_length*10"
   ]
  },
  {
   "cell_type": "code",
   "execution_count": 12,
   "id": "84b91a66",
   "metadata": {},
   "outputs": [
    {
     "name": "stdout",
     "output_type": "stream",
     "text": [
      "start_dataset: 2020-01-22 00:00:00\n",
      "end_training: 2020-03-29 00:00:00\n",
      "start_test: 2020-03-29 00:00:00\n",
      "end_test: 2020-04-03 00:00:00\n"
     ]
    }
   ],
   "source": [
    "start_dataset = pd.Timestamp(DATETIME_START_OF_TRAIN, freq=freq)\n",
    "end_training = pd.Timestamp(DATETIME_END_OF_TRAIN, freq=freq)\n",
    "start_test = pd.Timestamp(DATETIME_START_OF_TEST, freq=freq)\n",
    "end_test = pd.Timestamp(DATETIME_END_OF_TEST, freq=freq)\n",
    "print('start_dataset:', start_dataset)\n",
    "print('end_training:', end_training)\n",
    "print('start_test:', start_test)\n",
    "print('end_test:', end_test)"
   ]
  },
  {
   "cell_type": "code",
   "execution_count": 13,
   "id": "0234e057",
   "metadata": {},
   "outputs": [
    {
     "name": "stdout",
     "output_type": "stream",
     "text": [
      "max_length: 72\n"
     ]
    }
   ],
   "source": [
    "max_length = 0\n",
    "if freq == '1Min':\n",
    "    max_length = (end_test-start_dataset).days*24*60\n",
    "elif freq == '1H':\n",
    "    max_length = (end_test-start_dataset).days*24\n",
    "elif freq == '1D':\n",
    "    max_length = (end_test-start_dataset).days\n",
    "elif freq == '1M':\n",
    "    year1 = start_dataset.year\n",
    "    month1 = start_dataset.month\n",
    "    year2 = end_test.year\n",
    "    month2 = end_test.month\n",
    "    max_length = (year2-year1)*12+(month2-month1)\n",
    "print('max_length:', max_length)"
   ]
  },
  {
   "cell_type": "code",
   "execution_count": 14,
   "id": "c8a0d7fa",
   "metadata": {},
   "outputs": [
    {
     "name": "stdout",
     "output_type": "stream",
     "text": [
      "cnt: 0\n",
      "num_timeseries: 313\n",
      "CPU times: user 6.43 ms, sys: 3.04 ms, total: 9.46 ms\n",
      "Wall time: 9.02 ms\n"
     ]
    }
   ],
   "source": [
    "%%time\n",
    "\n",
    "ids = []\n",
    "data_group = data.groupby(id_feature)\n",
    "cnt = 0\n",
    "for name, group in data_group:\n",
    "    if cnt % 1000 == 0:\n",
    "        print('cnt:', cnt)\n",
    "    cnt += 1\n",
    "    # print(name)\n",
    "    # print(group)\n",
    "    new_name = str(name)\n",
    "    # print(new_name)\n",
    "    ids.append(new_name)\n",
    "\n",
    "num_timeseries = len(ids)\n",
    "print('num_timeseries:', num_timeseries)"
   ]
  },
  {
   "cell_type": "code",
   "execution_count": 15,
   "id": "134d55ba",
   "metadata": {},
   "outputs": [
    {
     "name": "stdout",
     "output_type": "stream",
     "text": [
      "313 67\n"
     ]
    }
   ],
   "source": [
    "training_data = [\n",
    "    {\n",
    "        \"start\": str(data_timeseries[i].index[0]),\n",
    "        \"target\": data_timeseries[i][start_dataset:end_training][:-1].tolist(),  # We use -1, because pandas indexing includes the upper bound \n",
    "#         \"dynamic_feat\": [],\n",
    "#         \"cat\": [],\n",
    "        \"id\": ids[i]\n",
    "    }\n",
    "    for i in range(num_timeseries)\n",
    "]\n",
    "print(len(training_data), len(data_timeseries[0][start_dataset:end_training][:-1].tolist()))"
   ]
  },
  {
   "cell_type": "code",
   "execution_count": 16,
   "id": "371caff5",
   "metadata": {},
   "outputs": [
    {
     "name": "stdout",
     "output_type": "stream",
     "text": [
      "313 71\n"
     ]
    }
   ],
   "source": [
    "test_data = [\n",
    "    {\n",
    "        \"start\": str(data_timeseries[i].index[0]),\n",
    "        \"target\": data_timeseries[i][start_dataset:end_test][:-1].tolist(),  # We use -1, because pandas indexing includes the upper bound \n",
    "#         \"dynamic_feat\": [],\n",
    "#         \"cat\": [],\n",
    "        \"id\": ids[i]\n",
    "    }\n",
    "    for i in range(num_timeseries)\n",
    "]\n",
    "print(len(test_data), len(data_timeseries[0][start_dataset:end_test][:-1].tolist()))"
   ]
  },
  {
   "cell_type": "code",
   "execution_count": 17,
   "id": "229fa517",
   "metadata": {},
   "outputs": [],
   "source": [
    "def write_dicts_to_file(path, data):\n",
    "    with open(path, 'wb') as fp:\n",
    "        for d in data:\n",
    "            fp.write(json.dumps(d).replace('NaN', '\"NaN\"').encode(\"utf-8\"))\n",
    "            fp.write(\"\\n\".encode('utf-8'))"
   ]
  },
  {
   "cell_type": "code",
   "execution_count": 18,
   "id": "6733fc70",
   "metadata": {},
   "outputs": [
    {
     "name": "stdout",
     "output_type": "stream",
     "text": [
      "CPU times: user 11.2 ms, sys: 232 µs, total: 11.4 ms\n",
      "Wall time: 10.6 ms\n"
     ]
    }
   ],
   "source": [
    "%%time\n",
    "write_dicts_to_file(\"data/train_\"+freq+\".json\", training_data)\n",
    "write_dicts_to_file(\"data/test_\"+freq+\".json\", test_data)"
   ]
  },
  {
   "cell_type": "code",
   "execution_count": null,
   "id": "3ac66483",
   "metadata": {},
   "outputs": [],
   "source": []
  }
 ],
 "metadata": {
  "kernelspec": {
   "display_name": "conda_python3",
   "language": "python",
   "name": "conda_python3"
  },
  "language_info": {
   "codemirror_mode": {
    "name": "ipython",
    "version": 3
   },
   "file_extension": ".py",
   "mimetype": "text/x-python",
   "name": "python",
   "nbconvert_exporter": "python",
   "pygments_lexer": "ipython3",
   "version": "3.6.13"
  }
 },
 "nbformat": 4,
 "nbformat_minor": 5
}
