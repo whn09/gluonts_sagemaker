{
 "cells": [
  {
   "cell_type": "code",
   "execution_count": null,
   "id": "577743a9",
   "metadata": {},
   "outputs": [],
   "source": [
    "!pip install llvmlite --ignore-installed"
   ]
  },
  {
   "cell_type": "code",
   "execution_count": null,
   "id": "5352d466",
   "metadata": {},
   "outputs": [],
   "source": [
    "!pip install mxnet==1.9\n",
    "# !pip install mxnet-cu112==1.9"
   ]
  },
  {
   "cell_type": "code",
   "execution_count": null,
   "id": "c6043f5f",
   "metadata": {
    "scrolled": true
   },
   "outputs": [],
   "source": [
    "!pip install autogluon"
   ]
  },
  {
   "cell_type": "code",
   "execution_count": 1,
   "id": "2f9ee8c2",
   "metadata": {},
   "outputs": [],
   "source": [
    "import pandas as pd\n",
    "from matplotlib import pyplot as plt\n",
    "\n",
    "from autogluon.timeseries import TimeSeriesPredictor, TimeSeriesDataFrame"
   ]
  },
  {
   "cell_type": "code",
   "execution_count": 2,
   "id": "cae5a1ed",
   "metadata": {},
   "outputs": [
    {
     "data": {
      "text/plain": [
       "<matplotlib.legend.Legend at 0x7f112b204810>"
      ]
     },
     "execution_count": 2,
     "metadata": {},
     "output_type": "execute_result"
    },
    {
     "data": {
      "image/png": "[encoded data removed]",
      "text/plain": [
       "<Figure size 1440x216 with 1 Axes>"
      ]
     },
     "metadata": {
      "needs_background": "light"
     },
     "output_type": "display_data"
    }
   ],
   "source": [
    "df = pd.read_csv(\n",
    "    \"https://autogluon.s3-us-west-2.amazonaws.com/datasets/CovidTimeSeries/train.csv\",\n",
    "    parse_dates=[\"Date\"],\n",
    ")\n",
    "\n",
    "train_data = TimeSeriesDataFrame.from_data_frame(\n",
    "    df,\n",
    "    id_column=\"name\",\n",
    "    timestamp_column=\"Date\",\n",
    ")\n",
    "\n",
    "plt.figure(figsize=(20, 3))\n",
    "for country in [\"United Kingdom_\", \"Germany_\"]:\n",
    "    plt.plot(train_data.loc[country], label=country)\n",
    "plt.legend()"
   ]
  },
  {
   "cell_type": "code",
   "execution_count": 5,
   "id": "aa38caf5",
   "metadata": {},
   "outputs": [
    {
     "name": "stdout",
     "output_type": "stream",
     "text": [
      "<class 'autogluon.timeseries.dataset.ts_dataframe.TimeSeriesDataFrame'>\n",
      "MultiIndex: 22536 entries, ('Afghanistan_', Timestamp('2020-01-22 00:00:00')) to ('Zimbabwe_', Timestamp('2020-04-02 00:00:00'))\n",
      "Data columns (total 1 columns):\n",
      " #   Column          Non-Null Count  Dtype  \n",
      "---  ------          --------------  -----  \n",
      " 0   ConfirmedCases  22536 non-null  float64\n",
      "dtypes: float64(1)\n",
      "memory usage: 255.4+ KB\n"
     ]
    }
   ],
   "source": [
    "train_data.info()"
   ]
  },
  {
   "cell_type": "code",
   "execution_count": 3,
   "id": "045a554f",
   "metadata": {},
   "outputs": [
    {
     "data": {
      "text/html": [
       "<div>\n",
       "<style scoped>\n",
       "    .dataframe tbody tr th:only-of-type {\n",
       "        vertical-align: middle;\n",
       "    }\n",
       "\n",
       "    .dataframe tbody tr th {\n",
       "        vertical-align: top;\n",
       "    }\n",
       "\n",
       "    .dataframe thead th {\n",
       "        text-align: right;\n",
       "    }\n",
       "</style>\n",
       "<table border=\"1\" class=\"dataframe\">\n",
       "  <thead>\n",
       "    <tr style=\"text-align: right;\">\n",
       "      <th></th>\n",
       "      <th></th>\n",
       "      <th>ConfirmedCases</th>\n",
       "    </tr>\n",
       "    <tr>\n",
       "      <th>item_id</th>\n",
       "      <th>timestamp</th>\n",
       "      <th></th>\n",
       "    </tr>\n",
       "  </thead>\n",
       "  <tbody>\n",
       "    <tr>\n",
       "      <th rowspan=\"5\" valign=\"top\">Afghanistan_</th>\n",
       "      <th>2020-01-22</th>\n",
       "      <td>0.0</td>\n",
       "    </tr>\n",
       "    <tr>\n",
       "      <th>2020-01-23</th>\n",
       "      <td>0.0</td>\n",
       "    </tr>\n",
       "    <tr>\n",
       "      <th>2020-01-24</th>\n",
       "      <td>0.0</td>\n",
       "    </tr>\n",
       "    <tr>\n",
       "      <th>2020-01-25</th>\n",
       "      <td>0.0</td>\n",
       "    </tr>\n",
       "    <tr>\n",
       "      <th>2020-01-26</th>\n",
       "      <td>0.0</td>\n",
       "    </tr>\n",
       "  </tbody>\n",
       "</table>\n",
       "</div>"
      ],
      "text/plain": [
       "                         ConfirmedCases\n",
       "item_id      timestamp                 \n",
       "Afghanistan_ 2020-01-22             0.0\n",
       "             2020-01-23             0.0\n",
       "             2020-01-24             0.0\n",
       "             2020-01-25             0.0\n",
       "             2020-01-26             0.0"
      ]
     },
     "execution_count": 3,
     "metadata": {},
     "output_type": "execute_result"
    }
   ],
   "source": [
    "train_data.head()"
   ]
  },
  {
   "cell_type": "code",
   "execution_count": 6,
   "id": "7c61ff6a",
   "metadata": {},
   "outputs": [
    {
     "data": {
      "text/html": [
       "<div>\n",
       "<style scoped>\n",
       "    .dataframe tbody tr th:only-of-type {\n",
       "        vertical-align: middle;\n",
       "    }\n",
       "\n",
       "    .dataframe tbody tr th {\n",
       "        vertical-align: top;\n",
       "    }\n",
       "\n",
       "    .dataframe thead th {\n",
       "        text-align: right;\n",
       "    }\n",
       "</style>\n",
       "<table border=\"1\" class=\"dataframe\">\n",
       "  <thead>\n",
       "    <tr style=\"text-align: right;\">\n",
       "      <th></th>\n",
       "      <th>ConfirmedCases</th>\n",
       "    </tr>\n",
       "    <tr>\n",
       "      <th>timestamp</th>\n",
       "      <th></th>\n",
       "    </tr>\n",
       "  </thead>\n",
       "  <tbody>\n",
       "    <tr>\n",
       "      <th>2020-01-22</th>\n",
       "      <td>0.0</td>\n",
       "    </tr>\n",
       "    <tr>\n",
       "      <th>2020-01-23</th>\n",
       "      <td>0.0</td>\n",
       "    </tr>\n",
       "    <tr>\n",
       "      <th>2020-01-24</th>\n",
       "      <td>0.0</td>\n",
       "    </tr>\n",
       "    <tr>\n",
       "      <th>2020-01-25</th>\n",
       "      <td>0.0</td>\n",
       "    </tr>\n",
       "    <tr>\n",
       "      <th>2020-01-26</th>\n",
       "      <td>0.0</td>\n",
       "    </tr>\n",
       "  </tbody>\n",
       "</table>\n",
       "</div>"
      ],
      "text/plain": [
       "            ConfirmedCases\n",
       "timestamp                 \n",
       "2020-01-22             0.0\n",
       "2020-01-23             0.0\n",
       "2020-01-24             0.0\n",
       "2020-01-25             0.0\n",
       "2020-01-26             0.0"
      ]
     },
     "execution_count": 6,
     "metadata": {},
     "output_type": "execute_result"
    }
   ],
   "source": [
    "train_data.loc['Afghanistan_'].head()"
   ]
  },
  {
   "cell_type": "code",
   "execution_count": 7,
   "id": "10882df3",
   "metadata": {},
   "outputs": [],
   "source": [
    "prediction_length = 5\n",
    "\n",
    "test_data = train_data.copy()  # the full data set\n",
    "\n",
    "# the data set with the last prediction_length time steps included, i.e., akin to `a[:-5]`\n",
    "train_data = train_data.slice_by_timestep(slice(None, -prediction_length))"
   ]
  },
  {
   "cell_type": "code",
   "execution_count": 8,
   "id": "aa99ab2a",
   "metadata": {},
   "outputs": [
    {
     "name": "stderr",
     "output_type": "stream",
     "text": [
      "presets is set to low_quality\n",
      "================ TimeSeriesPredictor ================\n",
      "TimeSeriesPredictor.fit() called\n",
      "Setting presets to: low_quality\n",
      "Fitting with arguments:\n",
      "{'evaluation_metric': 'MAPE',\n",
      " 'hyperparameter_tune_kwargs': None,\n",
      " 'hyperparameters': 'toy',\n",
      " 'prediction_length': 5,\n",
      " 'target_column': 'ConfirmedCases',\n",
      " 'time_limit': None}\n",
      "Provided training data set with 20971 rows, 313 items. Average time series length is 67.0.\n",
      "Training artifacts will be saved to: /home/ec2-user/SageMaker/gluonts_sagemaker/autogluon-covidforecast\n",
      "=====================================================\n",
      "Validation data is None, will hold the last prediction_length 5 time steps out to use as validation set.\n",
      "\n",
      "Starting training. Start time is 2022-06-27 02:19:16\n",
      "Models that will be trained: ['AutoETS', 'SimpleFeedForward', 'DeepAR', 'MQCNN']\n",
      "Training timeseries model AutoETS. \n",
      "\t-0.3287       = Validation score (-MAPE)\n",
      "\t4.23    s     = Training runtime\n",
      "\t26.38   s     = Validation (prediction) runtime\n",
      "Training timeseries model SimpleFeedForward. \n",
      "\t-0.5227       = Validation score (-MAPE)\n",
      "\t2.59    s     = Training runtime\n",
      "\t1.68    s     = Validation (prediction) runtime\n",
      "Training timeseries model DeepAR. \n",
      "\t-0.9785       = Validation score (-MAPE)\n",
      "\t4.82    s     = Training runtime\n",
      "\t2.79    s     = Validation (prediction) runtime\n",
      "Training timeseries model MQCNN. \n",
      "\t-0.7490       = Validation score (-MAPE)\n",
      "\t3.67    s     = Training runtime\n",
      "\t1.79    s     = Validation (prediction) runtime\n",
      "Fitting simple weighted ensemble.\n",
      "\t-0.3097       = Validation score (-MAPE)\n",
      "\t125.57  s     = Training runtime\n",
      "\t28.18   s     = Validation (prediction) runtime\n",
      "Training complete. Models trained: ['AutoETS', 'SimpleFeedForward', 'DeepAR', 'MQCNN', 'WeightedEnsemble']\n",
      "Total runtime: 205.97 s\n",
      "Best model: WeightedEnsemble\n",
      "Best model score: -0.3097\n"
     ]
    },
    {
     "data": {
      "text/plain": [
       "<autogluon.timeseries.predictor.TimeSeriesPredictor at 0x7f112b118a50>"
      ]
     },
     "execution_count": 8,
     "metadata": {},
     "output_type": "execute_result"
    }
   ],
   "source": [
    "predictor = TimeSeriesPredictor(\n",
    "    path=\"autogluon-covidforecast\",\n",
    "    target=\"ConfirmedCases\",\n",
    "    prediction_length=prediction_length,\n",
    "    eval_metric=\"MAPE\",\n",
    ")\n",
    "predictor.fit(\n",
    "    train_data=train_data,\n",
    "    presets=\"low_quality\",\n",
    ")"
   ]
  },
  {
   "cell_type": "code",
   "execution_count": 9,
   "id": "065a0451",
   "metadata": {},
   "outputs": [
    {
     "name": "stderr",
     "output_type": "stream",
     "text": [
      "Additional data provided, testing on additional data. Resulting leaderboard will be sorted according to test score (`score_test`).\n",
      "Different set of items than those provided during training were provided for prediction. The model AutoETS will be re-trained on newly provided data\n",
      "Different set of items than those provided during training were provided for prediction. The model AutoETS will be re-trained on newly provided data\n"
     ]
    },
    {
     "data": {
      "text/html": [
       "<div>\n",
       "<style scoped>\n",
       "    .dataframe tbody tr th:only-of-type {\n",
       "        vertical-align: middle;\n",
       "    }\n",
       "\n",
       "    .dataframe tbody tr th {\n",
       "        vertical-align: top;\n",
       "    }\n",
       "\n",
       "    .dataframe thead th {\n",
       "        text-align: right;\n",
       "    }\n",
       "</style>\n",
       "<table border=\"1\" class=\"dataframe\">\n",
       "  <thead>\n",
       "    <tr style=\"text-align: right;\">\n",
       "      <th></th>\n",
       "      <th>model</th>\n",
       "      <th>score_test</th>\n",
       "      <th>score_val</th>\n",
       "      <th>pred_time_val</th>\n",
       "      <th>fit_time_marginal</th>\n",
       "      <th>fit_order</th>\n",
       "    </tr>\n",
       "  </thead>\n",
       "  <tbody>\n",
       "    <tr>\n",
       "      <th>0</th>\n",
       "      <td>WeightedEnsemble</td>\n",
       "      <td>-0.218158</td>\n",
       "      <td>-0.309665</td>\n",
       "      <td>28.177627</td>\n",
       "      <td>125.567085</td>\n",
       "      <td>5</td>\n",
       "    </tr>\n",
       "    <tr>\n",
       "      <th>1</th>\n",
       "      <td>AutoETS</td>\n",
       "      <td>-0.247532</td>\n",
       "      <td>-0.328701</td>\n",
       "      <td>26.384829</td>\n",
       "      <td>4.232892</td>\n",
       "      <td>1</td>\n",
       "    </tr>\n",
       "    <tr>\n",
       "      <th>2</th>\n",
       "      <td>SimpleFeedForward</td>\n",
       "      <td>-0.280825</td>\n",
       "      <td>-0.522697</td>\n",
       "      <td>1.676183</td>\n",
       "      <td>2.589172</td>\n",
       "      <td>2</td>\n",
       "    </tr>\n",
       "    <tr>\n",
       "      <th>3</th>\n",
       "      <td>DeepAR</td>\n",
       "      <td>-0.450741</td>\n",
       "      <td>-0.978491</td>\n",
       "      <td>2.787163</td>\n",
       "      <td>4.817754</td>\n",
       "      <td>3</td>\n",
       "    </tr>\n",
       "    <tr>\n",
       "      <th>4</th>\n",
       "      <td>MQCNN</td>\n",
       "      <td>-0.652753</td>\n",
       "      <td>-0.749017</td>\n",
       "      <td>1.792798</td>\n",
       "      <td>3.674393</td>\n",
       "      <td>4</td>\n",
       "    </tr>\n",
       "  </tbody>\n",
       "</table>\n",
       "</div>"
      ],
      "text/plain": [
       "               model  score_test  score_val  pred_time_val  fit_time_marginal  \\\n",
       "0   WeightedEnsemble   -0.218158  -0.309665      28.177627         125.567085   \n",
       "1            AutoETS   -0.247532  -0.328701      26.384829           4.232892   \n",
       "2  SimpleFeedForward   -0.280825  -0.522697       1.676183           2.589172   \n",
       "3             DeepAR   -0.450741  -0.978491       2.787163           4.817754   \n",
       "4              MQCNN   -0.652753  -0.749017       1.792798           3.674393   \n",
       "\n",
       "   fit_order  \n",
       "0          5  \n",
       "1          1  \n",
       "2          2  \n",
       "3          3  \n",
       "4          4  "
      ]
     },
     "execution_count": 9,
     "metadata": {},
     "output_type": "execute_result"
    }
   ],
   "source": [
    "predictor.leaderboard(test_data, silent=True)"
   ]
  },
  {
   "cell_type": "code",
   "execution_count": 10,
   "id": "f9b0595d",
   "metadata": {},
   "outputs": [
    {
     "name": "stderr",
     "output_type": "stream",
     "text": [
      "Model not specified in predict, will default to the model with the best validation score: WeightedEnsemble\n",
      "Different set of items than those provided during training were provided for prediction. The model AutoETS will be re-trained on newly provided data\n"
     ]
    }
   ],
   "source": [
    "predictions = predictor.predict(train_data)"
   ]
  },
  {
   "cell_type": "code",
   "execution_count": 11,
   "id": "d3393cc7",
   "metadata": {},
   "outputs": [
    {
     "data": {
      "image/png": "[encoded data removed]",
      "text/plain": [
       "<Figure size 1440x216 with 1 Axes>"
      ]
     },
     "metadata": {
      "needs_background": "light"
     },
     "output_type": "display_data"
    }
   ],
   "source": [
    "plt.figure(figsize=(20, 3))\n",
    "\n",
    "ytrue = train_data.loc['France_'][\"ConfirmedCases\"]\n",
    "ypred = predictions.loc['France_']\n",
    "\n",
    "# prepend the last value of true range to predicted range for plotting continuity\n",
    "ypred.loc[ytrue.index[-1]] = [ytrue[-1]] * 10\n",
    "ypred = ypred.sort_index()\n",
    "\n",
    "ytrue_test = test_data.loc['France_'][\"ConfirmedCases\"][-5:]\n",
    "\n",
    "plt.plot(ytrue[-30:], label=\"Training Data\")\n",
    "plt.plot(ypred[\"mean\"], label=\"Mean Forecasts\")\n",
    "plt.plot(ytrue_test, label=\"Actual\")\n",
    "\n",
    "plt.fill_between(\n",
    "    ypred.index, ypred[\"0.1\"], ypred[\"0.9\"], color=\"red\", alpha=0.1\n",
    ")\n",
    "plt.title(\"COVID Case Forecasts in France, compared to actual trajectory\")\n",
    "_ = plt.legend()"
   ]
  },
  {
   "cell_type": "code",
   "execution_count": null,
   "id": "55395965",
   "metadata": {},
   "outputs": [],
   "source": []
  }
 ],
 "metadata": {
  "kernelspec": {
   "display_name": "conda_mxnet_latest_p37",
   "language": "python",
   "name": "conda_mxnet_latest_p37"
  },
  "language_info": {
   "codemirror_mode": {
    "name": "ipython",
    "version": 3
   },
   "file_extension": ".py",
   "mimetype": "text/x-python",
   "name": "python",
   "nbconvert_exporter": "python",
   "pygments_lexer": "ipython3",
   "version": "3.7.10"
  }
 },
 "nbformat": 4,
 "nbformat_minor": 5
}
